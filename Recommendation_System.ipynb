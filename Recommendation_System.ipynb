{
  "nbformat": 4,
  "nbformat_minor": 0,
  "metadata": {
    "colab": {
      "provenance": [],
      "gpuType": "T4"
    },
    "kernelspec": {
      "name": "python3",
      "display_name": "Python 3"
    },
    "language_info": {
      "name": "python"
    },
    "accelerator": "GPU"
  },
  "cells": [
    {
      "cell_type": "markdown",
      "source": [
        " # RECOMMENDATION SYSTEM Project\n",
        ""
      ],
      "metadata": {
        "id": "lyvchyHi069o"
      }
    },
    {
      "cell_type": "code",
      "execution_count": null,
      "metadata": {
        "colab": {
          "base_uri": "https://localhost:8080/"
        },
        "id": "OwlVgqqe-FyH",
        "outputId": "a3e7aceb-7944-475b-cfb6-fa8b2d375924"
      },
      "outputs": [
        {
          "output_type": "stream",
          "name": "stdout",
          "text": [
            "DataFrame:\n",
            "     user_id  movie_id  rating\n",
            "0         1       101       5\n",
            "1         1       102       4\n",
            "2         1       103       3\n",
            "3         2       101       4\n",
            "4         2       104       5\n",
            "5         3       102       2\n",
            "6         3       103       4\n",
            "7         4       101       5\n",
            "8         4       103       3\n",
            "9         4       104       4\n",
            "10        5       102       4\n",
            "11        5       104       5\n",
            "\n",
            "User-Item Interaction Matrix:\n",
            " movie_id  101  102  103  104\n",
            "user_id                     \n",
            "1         5.0  4.0  3.0  0.0\n",
            "2         4.0  0.0  0.0  5.0\n",
            "3         0.0  2.0  4.0  0.0\n",
            "4         5.0  0.0  3.0  4.0\n",
            "5         0.0  4.0  0.0  5.0\n",
            "\n",
            "User Similarity Matrix:\n",
            " user_id         1         2         3         4         5\n",
            "user_id                                                  \n",
            "1        1.000000  0.441726  0.632456  0.680000  0.353381\n",
            "2        0.441726  1.000000  0.000000  0.883452  0.609756\n",
            "3        0.632456  0.000000  1.000000  0.379473  0.279372\n",
            "4        0.680000  0.883452  0.379473  1.000000  0.441726\n",
            "5        0.353381  0.609756  0.279372  0.441726  1.000000\n",
            "\n",
            "Recommendations for User 1:\n",
            " movie_id\n",
            "104    3.5\n",
            "dtype: float64\n"
          ]
        }
      ],
      "source": [
        "import pandas as pd\n",
        "from sklearn.metrics.pairwise import cosine_similarity\n",
        "import numpy as np\n",
        "\n",
        "# Sample data\n",
        "data = {\n",
        "    'user_id': [1, 1, 1, 2, 2, 3, 3, 4, 4, 4, 5, 5],\n",
        "    'movie_id': [101, 102, 103, 101, 104, 102, 103, 101, 103, 104, 102, 104],\n",
        "    'rating': [5, 4, 3, 4, 5, 2, 4, 5, 3, 4, 4, 5]\n",
        "}\n",
        "\n",
        "# Creating a DataFrame\n",
        "df = pd.DataFrame(data)\n",
        "print(\"DataFrame:\\n\", df)\n",
        "\n",
        "# Creating the user-item interaction matrix\n",
        "user_item_matrix = df.pivot_table(index='user_id', columns='movie_id', values='rating')\n",
        "\n",
        "# Fill NaN values with 0\n",
        "user_item_matrix = user_item_matrix.fillna(0)\n",
        "print(\"\\nUser-Item Interaction Matrix:\\n\", user_item_matrix)\n",
        "\n",
        "# Compute cosine similarity between users\n",
        "user_similarity = cosine_similarity(user_item_matrix)\n",
        "\n",
        "# Convert to DataFrame for better readability\n",
        "user_similarity_df = pd.DataFrame(user_similarity, index=user_item_matrix.index, columns=user_item_matrix.index)\n",
        "print(\"\\nUser Similarity Matrix:\\n\", user_similarity_df)\n",
        "\n",
        "def get_user_recommendations(user_id, user_item_matrix, user_similarity_df, num_recommendations=3):\n",
        "    # Get the ratings of the target user\n",
        "    user_ratings = user_item_matrix.loc[user_id]\n",
        "\n",
        "    # Find similar users\n",
        "    similar_users = user_similarity_df[user_id].sort_values(ascending=False).index[1:]\n",
        "\n",
        "    # Aggregate ratings from similar users\n",
        "    similar_users_ratings = user_item_matrix.loc[similar_users]\n",
        "    mean_ratings = similar_users_ratings.mean(axis=0)\n",
        "\n",
        "    # Remove movies the user has already rated\n",
        "    recommendations = mean_ratings[user_ratings == 0].sort_values(ascending=False)\n",
        "\n",
        "    return recommendations.head(num_recommendations)\n",
        "\n",
        "# Get recommendations for user 1\n",
        "recommendations = get_user_recommendations(1, user_item_matrix, user_similarity_df)\n",
        "print(\"\\nRecommendations for User 1:\\n\", recommendations)\n"
      ]
    }
  ]
}